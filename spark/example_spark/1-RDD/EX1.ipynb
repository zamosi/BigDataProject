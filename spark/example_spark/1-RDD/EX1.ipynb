{
 "cells": [
  {
   "cell_type": "code",
   "execution_count": 2,
   "metadata": {},
   "outputs": [
    {
     "data": {
      "text/plain": [
       "'\\n Read the file \"english words\" into an RDD and answer the following questions:\\n\\n1. How many words are listed in the file?\\n2. What is the most common first letter?\\n3. What is the longest word in the file?\\n4. How many words include all 5 vowels?\\n'"
      ]
     },
     "execution_count": 2,
     "metadata": {},
     "output_type": "execute_result"
    }
   ],
   "source": [
    "#EX1\n",
    "'''\n",
    " Read the file \"english words\" into an RDD and answer the following questions:\n",
    "\n",
    "1. How many words are listed in the file?\n",
    "2. What is the most common first letter?\n",
    "3. What is the longest word in the file?\n",
    "4. How many words include all 5 vowels?\n",
    "'''"
   ]
  },
  {
   "cell_type": "code",
   "execution_count": 48,
   "metadata": {},
   "outputs": [],
   "source": [
    "from pyspark import SparkContext"
   ]
  },
  {
   "cell_type": "code",
   "execution_count": 49,
   "metadata": {},
   "outputs": [],
   "source": [
    "sc = SparkContext()"
   ]
  },
  {
   "cell_type": "code",
   "execution_count": 50,
   "metadata": {},
   "outputs": [],
   "source": [
    "#read\n",
    "rdd = sc.textFile('english words.txt')"
   ]
  },
  {
   "cell_type": "code",
   "execution_count": 51,
   "metadata": {},
   "outputs": [
    {
     "name": "stderr",
     "output_type": "stream",
     "text": [
      "                                                                                \r"
     ]
    },
    {
     "data": {
      "text/plain": [
       "235886"
      ]
     },
     "execution_count": 51,
     "metadata": {},
     "output_type": "execute_result"
    }
   ],
   "source": [
    "#1\n",
    "rdd.count()"
   ]
  },
  {
   "cell_type": "code",
   "execution_count": 52,
   "metadata": {},
   "outputs": [
    {
     "data": {
      "text/plain": [
       "[('s', 22759)]"
      ]
     },
     "execution_count": 52,
     "metadata": {},
     "output_type": "execute_result"
    }
   ],
   "source": [
    "#2\n",
    "rdd_first_letter = rdd\\\n",
    "    .map(lambda x:(x[0],1))\\\n",
    "    .reduceByKey(lambda a, b: a + b)\\\n",
    "    .sortBy(lambda x:x[1], ascending= False)\n",
    "rdd_first_letter.take(1)\n",
    "#map - ריצה על כל המילים , הבאת אות ראשונה, ויצירת טופל עם ערך 1\n",
    "#reduceByKey - אגרוג של כל המפתחות וסכימה ע\"פ הערך\n",
    "#sortBy - מיון ע\"פ האות הראשונה\n"
   ]
  },
  {
   "cell_type": "code",
   "execution_count": 41,
   "metadata": {},
   "outputs": [
    {
     "data": {
      "text/plain": [
       "['formaldehydesulphoxylate',\n",
       " 'pathologicopsychological',\n",
       " 'scientificophilosophical',\n",
       " 'tetraiodophenolphthalein',\n",
       " 'thyroparathyroidectomize']"
      ]
     },
     "execution_count": 41,
     "metadata": {},
     "output_type": "execute_result"
    }
   ],
   "source": [
    "#3\n",
    "max_len = rdd.map(lambda x:len(x)).max()\n",
    "word_max = rdd.filter(lambda x:len(x)==max_len)\n",
    "word_max.take(10)\n",
    "#סינון איברים"
   ]
  },
  {
   "cell_type": "code",
   "execution_count": 45,
   "metadata": {},
   "outputs": [
    {
     "data": {
      "text/plain": [
       "['abevacuation',\n",
       " 'abietineous',\n",
       " 'abiogenous',\n",
       " 'absolutive',\n",
       " 'absolutize',\n",
       " 'abstemious',\n",
       " 'abstemiously',\n",
       " 'abstemiousness',\n",
       " 'abstentious',\n",
       " 'acarocecidium']"
      ]
     },
     "execution_count": 45,
     "metadata": {},
     "output_type": "execute_result"
    }
   ],
   "source": [
    "#4\n",
    "vowels = set('eiauo')\n",
    "rdd_all_vowels = rdd.filter(lambda x:len(vowels-set(x))==0)\n",
    "rdd_all_vowels.take(10)"
   ]
  },
  {
   "cell_type": "code",
   "execution_count": 47,
   "metadata": {},
   "outputs": [],
   "source": [
    "sc.stop()"
   ]
  }
 ],
 "metadata": {
  "kernelspec": {
   "display_name": "Python 3",
   "language": "python",
   "name": "python3"
  },
  "language_info": {
   "codemirror_mode": {
    "name": "ipython",
    "version": 3
   },
   "file_extension": ".py",
   "mimetype": "text/x-python",
   "name": "python",
   "nbconvert_exporter": "python",
   "pygments_lexer": "ipython3",
   "version": "3.10.7"
  }
 },
 "nbformat": 4,
 "nbformat_minor": 2
}
