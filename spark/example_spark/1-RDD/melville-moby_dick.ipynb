{
 "cells": [
  {
   "cell_type": "code",
   "execution_count": 2,
   "metadata": {},
   "outputs": [
    {
     "data": {
      "text/plain": [
       "'\\n1. Read a melville-moby_dick text file and print the first 15 lines.\\n2. How many words are in the book?\\n3. How many unique words are in the book?\\n4. What is the most common word in the book?\\n5. What is the most common word in the book which is not a stop-word?\\n'"
      ]
     },
     "execution_count": 2,
     "metadata": {},
     "output_type": "execute_result"
    }
   ],
   "source": [
    "'''\n",
    "1. Read a melville-moby_dick text file and print the first 15 lines.\n",
    "2. How many words are in the book?\n",
    "3. How many unique words are in the book?\n",
    "4. What is the most common word in the book?\n",
    "5. What is the most common word in the book which is not a stop-word?\n",
    "'''"
   ]
  },
  {
   "cell_type": "code",
   "execution_count": 11,
   "metadata": {},
   "outputs": [],
   "source": [
    "from pyspark import SparkContext"
   ]
  },
  {
   "cell_type": "code",
   "execution_count": 138,
   "metadata": {},
   "outputs": [
    {
     "name": "stderr",
     "output_type": "stream",
     "text": [
      "24/09/11 08:23:14 WARN Utils: Service 'SparkUI' could not bind on port 4040. Attempting port 4041.\n"
     ]
    }
   ],
   "source": [
    "#1\n",
    "#Read a melville-moby_dick text file and print the first 15 lines.\n",
    "sc =SparkContext.getOrCreate()\n",
    "rdd = sc.textFile('melville-moby_dick.txt')\n"
   ]
  },
  {
   "cell_type": "code",
   "execution_count": 139,
   "metadata": {},
   "outputs": [
    {
     "name": "stderr",
     "output_type": "stream",
     "text": [
      "[Stage 0:>                                                          (0 + 2) / 2]\r"
     ]
    },
    {
     "name": "stdout",
     "output_type": "stream",
     "text": [
      "212030\n"
     ]
    },
    {
     "name": "stderr",
     "output_type": "stream",
     "text": [
      "                                                                                \r"
     ]
    }
   ],
   "source": [
    "#2\n",
    "#How many words are in the book?\n",
    "rdd_words_num  = rdd.map(lambda x:len(x.split()))\n",
    "print(rdd_words_num.sum())"
   ]
  },
  {
   "cell_type": "code",
   "execution_count": 140,
   "metadata": {},
   "outputs": [
    {
     "data": {
      "text/plain": [
       "21791"
      ]
     },
     "execution_count": 140,
     "metadata": {},
     "output_type": "execute_result"
    }
   ],
   "source": [
    "#3\n",
    "#How many unique words are in the book?\n",
    "word_not_clean = rdd.flatMap(lambda x:x.split())\n",
    "word_clean = word_not_clean.map(lambda x: (''.join([i for i in x if i.isalpha()]),1))\n",
    "word_count = word_clean\\\n",
    "    .reduceByKey(lambda a, b: a + b)\\\n",
    "    .sortBy(lambda x:x[1], ascending= False)\n",
    "word_count.count()"
   ]
  },
  {
   "cell_type": "code",
   "execution_count": 141,
   "metadata": {},
   "outputs": [
    {
     "data": {
      "text/plain": [
       "[('the', 13624)]"
      ]
     },
     "execution_count": 141,
     "metadata": {},
     "output_type": "execute_result"
    }
   ],
   "source": [
    "#4\n",
    "#What is the most common word in the book?\n",
    "word_count.take(1)"
   ]
  },
  {
   "cell_type": "code",
   "execution_count": 142,
   "metadata": {},
   "outputs": [
    {
     "data": {
      "text/plain": [
       "[('one', 857)]"
      ]
     },
     "execution_count": 142,
     "metadata": {},
     "output_type": "execute_result"
    }
   ],
   "source": [
    "#5\n",
    "#What is the most common word in the book which is not a stop-word?\n",
    "with open('english stop words.txt', 'r', encoding='utf-8') as file:\n",
    "    content = file.read()\n",
    "stop_words = content.splitlines()\n",
    "word_count_wo_sw = word_count.filter(lambda x: x[0] not in stop_words)\n",
    "word_count_wo_sw.sortBy(lambda x:x[1], ascending= False).take(1)"
   ]
  },
  {
   "cell_type": "code",
   "execution_count": 143,
   "metadata": {},
   "outputs": [
    {
     "name": "stderr",
     "output_type": "stream",
     "text": [
      "                                                                                \r"
     ]
    },
    {
     "data": {
      "text/plain": [
       "[('one', 857)]"
      ]
     },
     "execution_count": 143,
     "metadata": {},
     "output_type": "execute_result"
    }
   ],
   "source": [
    "rdd_stop_words = sc.textFile('english stop words.txt')\n",
    "rdd_stop_words_t = rdd_stop_words.map(lambda x:(x,1))\n",
    "word_count.subtractByKey(rdd_stop_words_t).sortBy(lambda x:x[1], ascending= False).take(1)\n"
   ]
  },
  {
   "cell_type": "code",
   "execution_count": 144,
   "metadata": {},
   "outputs": [],
   "source": [
    "sc.stop()"
   ]
  }
 ],
 "metadata": {
  "kernelspec": {
   "display_name": "Python 3",
   "language": "python",
   "name": "python3"
  },
  "language_info": {
   "codemirror_mode": {
    "name": "ipython",
    "version": 3
   },
   "file_extension": ".py",
   "mimetype": "text/x-python",
   "name": "python",
   "nbconvert_exporter": "python",
   "pygments_lexer": "ipython3",
   "version": "3.10.7"
  }
 },
 "nbformat": 4,
 "nbformat_minor": 2
}
