{
 "cells": [
  {
   "cell_type": "code",
   "execution_count": 1,
   "metadata": {},
   "outputs": [],
   "source": [
    "import pyspark.sql.functions as F\n",
    "from pyspark.sql import SparkSession\n",
    "from pyspark.sql.window import Window\n",
    "import os"
   ]
  },
  {
   "cell_type": "code",
   "execution_count": 3,
   "metadata": {},
   "outputs": [
    {
     "name": "stderr",
     "output_type": "stream",
     "text": [
      "Setting default log level to \"WARN\".\n",
      "To adjust logging level use sc.setLogLevel(newLevel). For SparkR, use setLogLevel(newLevel).\n",
      "24/09/17 16:06:03 WARN NativeCodeLoader: Unable to load native-hadoop library for your platform... using builtin-java classes where applicable\n"
     ]
    }
   ],
   "source": [
    "os.chdir(r'/home/developer/projects/spark-course-python/spark_course_python/projects/spark/class/2-DataFrame')\n",
    "spark = SparkSession.builder.getOrCreate()\n",
    "# df_people = spark.read.csv('people.txt',header = True)"
   ]
  },
  {
   "cell_type": "code",
   "execution_count": 4,
   "metadata": {},
   "outputs": [],
   "source": [
    "simpleData = ((\"James\", \"Sales\", 3000), (\"Michael\", \"Sales\", 4600),\\\n",
    "              (\"James\", \"Sales\", 3000),(\"Scott\", \"Finance\", 3300), \\\n",
    "              (\"Jen\", \"Finance\", 3900), (\"Jeff\", \"Marketing\", 3000),\\\n",
    "              (\"Kumar\", \"Marketing\", 2000), (\"Saif\", \"Sales\", 4100))\n",
    "\n",
    "\n",
    "columns = [\"employee_name\", \"department\", \"salary\"]\n",
    "df = spark.createDataFrame(data=simpleData, schema=columns)\n",
    "# df.printSchema()\n",
    "#df.show(truncate=False)"
   ]
  },
  {
   "cell_type": "code",
   "execution_count": 6,
   "metadata": {},
   "outputs": [
    {
     "name": "stderr",
     "output_type": "stream",
     "text": [
      "[Stage 0:>                                                          (0 + 8) / 8]\r"
     ]
    },
    {
     "name": "stdout",
     "output_type": "stream",
     "text": [
      "+-------------+----------+------+---+\n",
      "|employee_name|department|salary| rn|\n",
      "+-------------+----------+------+---+\n",
      "|        Scott|   Finance|  3300|  1|\n",
      "|          Jen|   Finance|  3900|  2|\n",
      "|        Kumar| Marketing|  2000|  1|\n",
      "|         Jeff| Marketing|  3000|  2|\n",
      "|        James|     Sales|  3000|  1|\n",
      "|        James|     Sales|  3000|  2|\n",
      "|         Saif|     Sales|  4100|  3|\n",
      "|      Michael|     Sales|  4600|  4|\n",
      "+-------------+----------+------+---+\n",
      "\n"
     ]
    },
    {
     "name": "stderr",
     "output_type": "stream",
     "text": [
      "                                                                                \r"
     ]
    }
   ],
   "source": [
    "#row_number\n",
    "windowSpec = Window.partitionBy(\"department\").orderBy(\"salary\")\n",
    "df.withColumn('rn',F.row_number().over(windowSpec)).show(10)"
   ]
  },
  {
   "cell_type": "code",
   "execution_count": 49,
   "metadata": {},
   "outputs": [
    {
     "name": "stdout",
     "output_type": "stream",
     "text": [
      "+-------------+----------+------+----+\n",
      "|employee_name|department|salary| max|\n",
      "+-------------+----------+------+----+\n",
      "|        Scott|   Finance|  3300|3900|\n",
      "|          Jen|   Finance|  3900|3900|\n",
      "|         Jeff| Marketing|  3000|3000|\n",
      "|        Kumar| Marketing|  2000|3000|\n",
      "|        James|     Sales|  3000|4600|\n",
      "|      Michael|     Sales|  4600|4600|\n",
      "|        James|     Sales|  3000|4600|\n",
      "|         Saif|     Sales|  4100|4600|\n",
      "+-------------+----------+------+----+\n",
      "\n"
     ]
    }
   ],
   "source": [
    "#agg_functions\n",
    "windowSpecAgg  = Window.partitionBy('department')\n",
    "df.withColumn('max',max(F.col('salary')).over(windowSpecAgg)).show(10)"
   ]
  },
  {
   "cell_type": "code",
   "execution_count": 54,
   "metadata": {},
   "outputs": [
    {
     "name": "stdout",
     "output_type": "stream",
     "text": [
      "+-------------+----------+------+----------+\n",
      "|employee_name|department|salary|dense_rank|\n",
      "+-------------+----------+------+----------+\n",
      "|        Scott|   Finance|  3300|         1|\n",
      "|          Jen|   Finance|  3900|         2|\n",
      "|        Kumar| Marketing|  2000|         1|\n",
      "|         Jeff| Marketing|  3000|         2|\n",
      "|        James|     Sales|  3000|         1|\n",
      "|        James|     Sales|  3000|         1|\n",
      "|         Saif|     Sales|  4100|         2|\n",
      "|      Michael|     Sales|  4600|         3|\n",
      "+-------------+----------+------+----------+\n",
      "\n"
     ]
    }
   ],
   "source": [
    "#dense_rank\n",
    "windowSpec = Window.partitionBy(\"department\").orderBy(\"salary\")\n",
    "df.withColumn(\"dense_rank\",F.dense_rank().over(windowSpec)) .show()"
   ]
  },
  {
   "cell_type": "code",
   "execution_count": 61,
   "metadata": {},
   "outputs": [
    {
     "name": "stdout",
     "output_type": "stream",
     "text": [
      "+-------------+----------+------+-----+\n",
      "|employee_name|department|salary|ntile|\n",
      "+-------------+----------+------+-----+\n",
      "|        Scott|   Finance|  3300|    1|\n",
      "|          Jen|   Finance|  3900|    2|\n",
      "|         Jeff| Marketing|  3000|    1|\n",
      "|        Kumar| Marketing|  2000|    2|\n",
      "|        James|     Sales|  3000|    1|\n",
      "|      Michael|     Sales|  4600|    1|\n",
      "|        James|     Sales|  3000|    2|\n",
      "|         Saif|     Sales|  4100|    2|\n",
      "+-------------+----------+------+-----+\n",
      "\n"
     ]
    }
   ],
   "source": [
    "#ntile\n",
    "#מחלק כל קטגוריה לקבוצות ע\"פ מה שהוגדר\n",
    "windowSpec = Window.partitionBy(\"department\").orderBy(\"salary\")\n",
    "df.withColumn(\"ntile\",F.ntile(2).over(windowSpec)).show()"
   ]
  },
  {
   "cell_type": "code",
   "execution_count": 71,
   "metadata": {},
   "outputs": [
    {
     "name": "stdout",
     "output_type": "stream",
     "text": [
      "+-------------+----------+------+------------------+\n",
      "|employee_name|department|salary|      percent_rank|\n",
      "+-------------+----------+------+------------------+\n",
      "|        Scott|   Finance|  3300|               0.0|\n",
      "|          Jen|   Finance|  3900|               1.0|\n",
      "|        Kumar| Marketing|  2000|               0.0|\n",
      "|         Jeff| Marketing|  3000|               1.0|\n",
      "|        James|     Sales|  3000|               0.0|\n",
      "|        James|     Sales|  3000|               0.0|\n",
      "|         Saif|     Sales|  4100|0.6666666666666666|\n",
      "|      Michael|     Sales|  4600|               1.0|\n",
      "+-------------+----------+------+------------------+\n",
      "\n"
     ]
    }
   ],
   "source": [
    "#percent_rank\n",
    "#מחשב את האחוזון של כל שורה\n",
    "windowSpec = Window.partitionBy(\"department\").orderBy(\"salary\")\n",
    "df.withColumn(\"percent_rank\",F.percent_rank().over(windowSpec)).show()"
   ]
  },
  {
   "cell_type": "code",
   "execution_count": 72,
   "metadata": {},
   "outputs": [
    {
     "name": "stderr",
     "output_type": "stream",
     "text": [
      "[Stage 124:=================================================>       (7 + 1) / 8]\r"
     ]
    },
    {
     "name": "stdout",
     "output_type": "stream",
     "text": [
      "+-------------+----------+------+----+\n",
      "|employee_name|department|salary|rank|\n",
      "+-------------+----------+------+----+\n",
      "|        Scott|   Finance|  3300|   1|\n",
      "|          Jen|   Finance|  3900|   2|\n",
      "|        Kumar| Marketing|  2000|   1|\n",
      "|         Jeff| Marketing|  3000|   2|\n",
      "|        James|     Sales|  3000|   1|\n",
      "|        James|     Sales|  3000|   1|\n",
      "|         Saif|     Sales|  4100|   3|\n",
      "|      Michael|     Sales|  4600|   4|\n",
      "+-------------+----------+------+----+\n",
      "\n"
     ]
    },
    {
     "name": "stderr",
     "output_type": "stream",
     "text": [
      "                                                                                \r"
     ]
    }
   ],
   "source": [
    "#rank\n",
    "#בכל קטגוריה סופר את מספר האיברים הדומים, אך אם יש שני ערכים אותו דבר הוא נותן להם אותו מספר וקובץ מספר קדימה.\n",
    "windowSpec = Window.partitionBy(\"department\").orderBy(\"salary\")\n",
    "df.withColumn(\"rank\",F.rank().over(windowSpec)).show()"
   ]
  },
  {
   "cell_type": "code",
   "execution_count": 74,
   "metadata": {},
   "outputs": [
    {
     "name": "stdout",
     "output_type": "stream",
     "text": [
      "+-------------+----------+------+---------+\n",
      "|employee_name|department|salary|cume_dist|\n",
      "+-------------+----------+------+---------+\n",
      "|        Scott|   Finance|  3300|      0.5|\n",
      "|          Jen|   Finance|  3900|      1.0|\n",
      "|        Kumar| Marketing|  2000|      0.5|\n",
      "|         Jeff| Marketing|  3000|      1.0|\n",
      "|        James|     Sales|  3000|      0.5|\n",
      "|        James|     Sales|  3000|      0.5|\n",
      "|         Saif|     Sales|  4100|     0.75|\n",
      "|      Michael|     Sales|  4600|      1.0|\n",
      "+-------------+----------+------+---------+\n",
      "\n"
     ]
    }
   ],
   "source": [
    "#cume_dist\n",
    "#מחשבת את התפלגות הערכים בתוך הקטגוריה  אך כן מתחשבת בערכים שווים בניגוד ל\n",
    "#percent_rank\n",
    "windowSpec = Window.partitionBy(\"department\").orderBy(\"salary\")\n",
    "df.withColumn(\"cume_dist\",F.cume_dist().over(windowSpec)).show()"
   ]
  },
  {
   "cell_type": "code",
   "execution_count": 82,
   "metadata": {},
   "outputs": [
    {
     "name": "stdout",
     "output_type": "stream",
     "text": [
      "+-------------+----------+------+----+\n",
      "|employee_name|department|salary| lag|\n",
      "+-------------+----------+------+----+\n",
      "|        Scott|   Finance|  3300|null|\n",
      "|          Jen|   Finance|  3900|3300|\n",
      "|        Kumar| Marketing|  2000|null|\n",
      "|         Jeff| Marketing|  3000|2000|\n",
      "|        James|     Sales|  3000|null|\n",
      "|        James|     Sales|  3000|3000|\n",
      "|         Saif|     Sales|  4100|3000|\n",
      "|      Michael|     Sales|  4600|4100|\n",
      "+-------------+----------+------+----+\n",
      "\n"
     ]
    }
   ],
   "source": [
    "#lag\n",
    "#מביא את הערך של מספר שורות אחורה שמוגדרות בתוך קטגוריה מסוימת\n",
    "windowSpec = Window.partitionBy(\"department\").orderBy(\"salary\")\n",
    "df.withColumn(\"lag\",F.lag(\"salary\",1).over(windowSpec)).show()\n"
   ]
  },
  {
   "cell_type": "code",
   "execution_count": 85,
   "metadata": {},
   "outputs": [
    {
     "name": "stdout",
     "output_type": "stream",
     "text": [
      "+-------------+----------+------+----+\n",
      "|employee_name|department|salary|lead|\n",
      "+-------------+----------+------+----+\n",
      "|        Scott|   Finance|  3300|3900|\n",
      "|          Jen|   Finance|  3900|null|\n",
      "|        Kumar| Marketing|  2000|3000|\n",
      "|         Jeff| Marketing|  3000|null|\n",
      "|        James|     Sales|  3000|3000|\n",
      "|        James|     Sales|  3000|4100|\n",
      "|         Saif|     Sales|  4100|4600|\n",
      "|      Michael|     Sales|  4600|null|\n",
      "+-------------+----------+------+----+\n",
      "\n"
     ]
    }
   ],
   "source": [
    "#lead\n",
    "#מביא את הערך של מספר שורות קדימה שמוגדרות בתוך קטגוריה מסוימת\n",
    "windowSpec = Window.partitionBy(\"department\").orderBy(\"salary\")\n",
    "df.withColumn(\"lead\",F.lead(\"salary\",1).over(windowSpec)).show()"
   ]
  },
  {
   "cell_type": "code",
   "execution_count": null,
   "metadata": {},
   "outputs": [],
   "source": []
  },
  {
   "cell_type": "code",
   "execution_count": null,
   "metadata": {},
   "outputs": [],
   "source": []
  },
  {
   "cell_type": "code",
   "execution_count": null,
   "metadata": {},
   "outputs": [],
   "source": []
  }
 ],
 "metadata": {
  "kernelspec": {
   "display_name": "Python 3",
   "language": "python",
   "name": "python3"
  },
  "language_info": {
   "codemirror_mode": {
    "name": "ipython",
    "version": 3
   },
   "file_extension": ".py",
   "mimetype": "text/x-python",
   "name": "python",
   "nbconvert_exporter": "python",
   "pygments_lexer": "ipython3",
   "version": "3.10.7"
  }
 },
 "nbformat": 4,
 "nbformat_minor": 2
}
