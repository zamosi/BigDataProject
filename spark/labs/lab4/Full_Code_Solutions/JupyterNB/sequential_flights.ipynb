{
 "cells": [
  {
   "cell_type": "code",
   "execution_count": null,
   "id": "e60fda78-19d2-4c48-be64-aadffd050bb3",
   "metadata": {},
   "outputs": [],
   "source": [
    "from pyspark.sql import SparkSession\n",
    "from pyspark.sql import functions as F\n",
    "from pyspark.sql import Window"
   ]
  },
  {
   "cell_type": "code",
   "execution_count": null,
   "id": "40e99b91-dfea-4955-a19c-690f75d4fd91",
   "metadata": {},
   "outputs": [],
   "source": [
    "spark = spark = SparkSession\\\n",
    "    .builder\\\n",
    "    .master(\"local[*]\") \\\n",
    "    .config(\"spark.driver.memory\", \"4g\") \\\n",
    "    .appName('ex4_routing_paths')\\\n",
    "    .getOrCreate()"
   ]
  },
  {
   "cell_type": "code",
   "execution_count": null,
   "id": "3e35d72f-4d5e-43cb-a130-ed31bbe8fd37",
   "metadata": {},
   "outputs": [],
   "source": [
    "flights_df = spark.read.parquet('hdfs://course-hdfs:8020/data/transformed/flights/')"
   ]
  },
  {
   "cell_type": "code",
   "execution_count": null,
   "id": "4ab93ee0-818a-4411-95d5-77d75e1150a0",
   "metadata": {},
   "outputs": [],
   "source": [
    "flights_df_distinct = flights_df.select(F.col('carrier'), \\\n",
    "                                        F.col('origin_airport_id'), \\\n",
    "                                        F.col('dest_airport_id'), \\\n",
    "                                        F.col('flight_date'))\\\n",
    ".dropDuplicates()"
   ]
  },
  {
   "cell_type": "code",
   "execution_count": null,
   "id": "7472c006-5252-468f-834e-c4929560395e",
   "metadata": {},
   "outputs": [],
   "source": [
    "window = Window\\\n",
    "    .partitionBy(F.col('carrier'), F.col('origin_airport_id'), F.col('dest_airport_id'))\\\n",
    "    .orderBy(F.col('flight_date'))"
   ]
  },
  {
   "cell_type": "code",
   "execution_count": null,
   "id": "e18ec883-46cb-4ea3-be7b-599ca5341ad0",
   "metadata": {},
   "outputs": [],
   "source": [
    "continuous_df = flights_df_distinct\\\n",
    "    .withColumn('last_flight', F.lag(F.col('flight_date')).over(window))\\\n",
    "    .withColumn('next_flight', F.lead(F.col('flight_date')).over(window))\\\n",
    "    .withColumn('is_first', F.when(F.isnull(F.col('last_flight')), F.lit(True))\n",
    "                .otherwise(~(F.col('flight_date') == F.date_add(F.col('last_flight'), 1))))\\\n",
    "    .withColumn('is_last', F.when(F.isnull(F.col('next_flight')), F.lit(True))\n",
    "                .otherwise(~(F.col('flight_date') == F.date_add(F.col('next_flight'), -1))))"
   ]
  },
  {
   "cell_type": "code",
   "execution_count": null,
   "id": "b728a839-35ae-4f7c-8698-5c9f0471df3b",
   "metadata": {},
   "outputs": [],
   "source": [
    "continuous_df.show()"
   ]
  },
  {
   "cell_type": "code",
   "execution_count": null,
   "id": "6b9d9e8a-3c65-465f-81e8-2bcf6ae6ace3",
   "metadata": {},
   "outputs": [],
   "source": [
    "ranges_df = continuous_df.where(F.col('is_first') | F.col('is_last'))"
   ]
  },
  {
   "cell_type": "code",
   "execution_count": null,
   "id": "1c757a55-16d5-493b-b77c-d7efd8f0526e",
   "metadata": {},
   "outputs": [],
   "source": [
    "start_end_ranges_df = ranges_df\\\n",
    "    .select(F.col('carrier'),\n",
    "            F.col('origin_airport_id'),\n",
    "            F.col('dest_airport_id'),\n",
    "            F.col('flight_date'),\n",
    "            F.struct(F.col('flight_date').alias('flight_date'),\n",
    "            F.col('is_first').alias('is_first'),\n",
    "            F.col('is_last').alias('is_last')).alias('flight_details'))\\\n",
    "    .withColumn('next_flight_details', F.lead(F.col('flight_details')).over(window))\\\n",
    "    .select(F.col('carrier'),\n",
    "            F.col('origin_airport_id'),\n",
    "            F.col('dest_airport_id'),\n",
    "            F.when(F.col('flight_details.is_first'), F.col('flight_details.flight_date')).alias('start_range'),\n",
    "            F.when(F.col('flight_details.is_last'), F.col('flight_details.flight_date'))\n",
    "            .otherwise(F.when(F.col('next_flight_details.is_last'),\n",
    "                              F.col('next_flight_details.flight_date'))).alias('end_range'))"
   ]
  },
  {
   "cell_type": "code",
   "execution_count": null,
   "id": "07a1bdbe-5054-45fc-951a-3c8e71c608d2",
   "metadata": {},
   "outputs": [],
   "source": [
    "min_max_df = start_end_ranges_df.where(F.col('start_range').isNotNull())\\\n",
    "    .withColumn('num_of_flights', F.datediff(F.col('end_range'), F.col('start_range')) + 1)"
   ]
  },
  {
   "cell_type": "code",
   "execution_count": null,
   "id": "f4833dfc-7c14-4e1b-8211-c01f4578c423",
   "metadata": {},
   "outputs": [],
   "source": [
    "min_max_df.show()"
   ]
  },
  {
   "cell_type": "code",
   "execution_count": null,
   "id": "2ba68347-f8fa-43e4-9e8c-c3bc4ff15f7c",
   "metadata": {},
   "outputs": [],
   "source": [
    "min_max_df.orderBy(F.col('num_of_flights').desc()).show()"
   ]
  },
  {
   "cell_type": "code",
   "execution_count": null,
   "id": "2a0b6a79-b635-45b3-99c2-7015385f9451",
   "metadata": {},
   "outputs": [],
   "source": [
    "spark.stop()"
   ]
  }
 ],
 "metadata": {
  "kernelspec": {
   "display_name": "Python 3",
   "language": "python",
   "name": "python3"
  },
  "language_info": {
   "codemirror_mode": {
    "name": "ipython",
    "version": 3
   },
   "file_extension": ".py",
   "mimetype": "text/x-python",
   "name": "python",
   "nbconvert_exporter": "python",
   "pygments_lexer": "ipython3",
   "version": "3.6.8"
  }
 },
 "nbformat": 4,
 "nbformat_minor": 5
}
