{
 "cells": [
  {
   "cell_type": "code",
   "execution_count": null,
   "id": "85e737d0-85cf-4674-9dab-72bb48c07518",
   "metadata": {},
   "outputs": [],
   "source": [
    "from pyspark.sql import SparkSession\n",
    "from pyspark.sql import functions as F\n",
    "from pyspark.sql import Window"
   ]
  },
  {
   "cell_type": "code",
   "execution_count": null,
   "id": "9ef401e7-1a56-4d96-8ecb-a8bdf86b6dd5",
   "metadata": {},
   "outputs": [],
   "source": [
    "spark = SparkSession \\\n",
    "    .builder \\\n",
    "    .master(\"local[*]\") \\\n",
    "    .config(\"spark.driver.memory\", \"4g\") \\\n",
    "    .appName('ex4_anomalies_detection') \\\n",
    "    .getOrCreate()"
   ]
  },
  {
   "cell_type": "code",
   "execution_count": null,
   "id": "e53bf90a-fa43-435d-9b3f-68940412b0dd",
   "metadata": {},
   "outputs": [],
   "source": [
    "all_history_window = Window.partitionBy(F.col('Carrier')).orderBy(F.col('flight_date'))\n",
    "unbounded_window = Window.partitionBy(F.col('Carrier')).rowsBetween(Window.unboundedPreceding, Window.unboundedFollowing)\n",
    "sliding_range_window = Window.partitionBy(F.col('Carrier')).orderBy(F.col('start_range'))"
   ]
  },
  {
   "cell_type": "code",
   "execution_count": null,
   "id": "edee658f-edd2-4dc5-9d1c-a45ec126b3f6",
   "metadata": {},
   "outputs": [],
   "source": [
    "flights_df = spark.read.parquet('hdfs://course-hdfs:8020/data/transformed/flights/')"
   ]
  },
  {
   "cell_type": "code",
   "execution_count": null,
   "id": "f945ff63-3dd0-41d8-9962-7c047d135807",
   "metadata": {},
   "outputs": [],
   "source": [
    "flights_df.cache()"
   ]
  },
  {
   "cell_type": "code",
   "execution_count": null,
   "id": "3dc6e654-c527-4465-92e9-2ebd12995a56",
   "metadata": {},
   "outputs": [],
   "source": [
    "flights_df\\\n",
    "    .withColumn('avg_till_now', F.avg(F.col('arr_delay')).over(all_history_window))\\\n",
    "    .withColumn('avg_diff_percent', F.abs(F.col('arr_delay') / F.col('avg_till_now')))\\\n",
    "    .where(F.col('avg_diff_percent') > F.lit(3.0))\\\n",
    "    .show()"
   ]
  },
  {
   "cell_type": "code",
   "execution_count": null,
   "id": "bc43c29a-a134-4210-8796-13d85c2823fb",
   "metadata": {},
   "outputs": [],
   "source": [
    "flights_df\\\n",
    "    .withColumn('avg_all_time', F.avg(F.col('arr_delay')).over(unbounded_window))\\\n",
    "    .withColumn('avg_diff_percent', F.abs(F.col('arr_delay') / F.col('avg_all_time')))\\\n",
    "    .where(F.col('avg_diff_percent') > F.lit(5.0))\\\n",
    "    .show()"
   ]
  },
  {
   "cell_type": "code",
   "execution_count": null,
   "id": "2cc22cfb-31fd-43c1-a0a0-927d56b22fbb",
   "metadata": {},
   "outputs": [],
   "source": [
    "flights_df\\\n",
    "    .groupBy(F.col('Carrier'), F.window(F.col('flight_date'), '10 days', '1 day').alias('date_window'))\\\n",
    "    .agg(F.sum(F.col('dep_delay') + F.col('arr_delay')).alias('total_delay'))\\\n",
    "    .select(F.col('Carrier'),\n",
    "            F.col('date_window.start').alias('start_range'),\n",
    "            F.col('date_window.end').alias('end_range'),\n",
    "            F.col('total_delay'))\\\n",
    "    .withColumn('last_window_delay', F.lag(F.col('total_delay')).over(sliding_range_window))\\\n",
    "    .withColumn('change_percent', F.abs(F.lit(1.0) - (F.col('total_delay') / F.col('last_window_delay'))))\\\n",
    "    .where(F.col('change_percent') > F.lit(0.3))\\\n",
    "    .show(100)"
   ]
  },
  {
   "cell_type": "code",
   "execution_count": null,
   "id": "f3b3367c-f61b-4656-b8b4-20482267c26b",
   "metadata": {},
   "outputs": [],
   "source": [
    "flights_df.unpersist()"
   ]
  },
  {
   "cell_type": "code",
   "execution_count": null,
   "id": "68cd5e93-6360-4edc-9bbc-e89efb5ae382",
   "metadata": {},
   "outputs": [],
   "source": [
    "spark.stop()"
   ]
  }
 ],
 "metadata": {
  "kernelspec": {
   "display_name": "Python 3",
   "language": "python",
   "name": "python3"
  },
  "language_info": {
   "codemirror_mode": {
    "name": "ipython",
    "version": 3
   },
   "file_extension": ".py",
   "mimetype": "text/x-python",
   "name": "python",
   "nbconvert_exporter": "python",
   "pygments_lexer": "ipython3",
   "version": "3.6.8"
  }
 },
 "nbformat": 4,
 "nbformat_minor": 5
}
