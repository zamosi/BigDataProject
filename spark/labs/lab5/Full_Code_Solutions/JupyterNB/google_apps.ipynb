{
 "cells": [
  {
   "cell_type": "code",
   "execution_count": null,
   "id": "8e1f9d62-fb54-4e43-8d07-5fe9faec12ac",
   "metadata": {},
   "outputs": [],
   "source": [
    "from pyspark.sql import SparkSession\n",
    "from pyspark.sql import functions as F\n",
    "from pyspark.sql import Row\n",
    "from pyspark.sql import types as T"
   ]
  },
  {
   "cell_type": "code",
   "execution_count": null,
   "id": "4d7a89a0-2ad6-49f2-a574-ad3bbfbdb9e0",
   "metadata": {},
   "outputs": [],
   "source": [
    "spark = SparkSession.builder.master(\"local[*]\").appName('ex5_google_apps').getOrCreate()"
   ]
  },
  {
   "cell_type": "code",
   "execution_count": null,
   "id": "ccb1a87d-6a56-4828-99d3-2d1ae88cffb8",
   "metadata": {},
   "outputs": [],
   "source": [
    "age_limit_arr = [Row(age_limit=18, Content_Rating='Adults only 18+'),\n",
    "                 Row(age_limit=17, Content_Rating='Mature 17+'),\n",
    "                 Row(age_limit=12, Content_Rating='Teen'),\n",
    "                 Row(age_limit=10, Content_Rating='Everyone 10+'),\n",
    "                 Row(age_limit=0, Content_Rating='Everyone')]"
   ]
  },
  {
   "cell_type": "code",
   "execution_count": null,
   "id": "b92e4071-6c3a-4352-a4d9-55b716cd61e7",
   "metadata": {},
   "outputs": [],
   "source": [
    "google_apps_df = spark.read.csv('hdfs://course-hdfs:8020/data/raw/google_apps/', header=True)\n",
    "age_limit_df = spark.createDataFrame(age_limit_arr).withColumnRenamed('Content_Rating', 'Content Rating')"
   ]
  },
  {
   "cell_type": "code",
   "execution_count": null,
   "id": "c952b865-485b-41a1-9735-1bbe6600266f",
   "metadata": {},
   "outputs": [],
   "source": [
    "joined_df = google_apps_df.join(F.broadcast(age_limit_df), ['Content Rating'])"
   ]
  },
  {
   "cell_type": "code",
   "execution_count": null,
   "id": "1897d635-e5c9-4dc2-94f6-d7cb993a67ee",
   "metadata": {},
   "outputs": [],
   "source": [
    "selected_df = joined_df\\\n",
    "        .select(F.col('App').alias('application_name'),\n",
    "                F.col('Category').alias('category'),\n",
    "                F.col('Rating').alias('rating'),\n",
    "                F.col('Reviews').cast(T.FloatType()).alias('reviews'),\n",
    "                F.col('Size').alias('size'),\n",
    "                F.regexp_replace(F.col('Installs'), '[^0-9]', '').cast(T.DoubleType()).alias('num_of_installs'),\n",
    "                F.col('Price').cast(T.DoubleType()).alias('price'),\n",
    "                F.col('age_limit'),\n",
    "                F.col('Genres').alias('genres'),\n",
    "                F.col('Current Ver').alias('version'))\\\n",
    "        .fillna(-1, 'reviews')"
   ]
  },
  {
   "cell_type": "code",
   "execution_count": null,
   "id": "2aefa7b5-9fe7-48e2-b6da-dd10b0ca1b9b",
   "metadata": {},
   "outputs": [],
   "source": [
    "selected_df.write.parquet('hdfs://course-hdfs:8020/data/source/google_apps', mode='overwrite')"
   ]
  },
  {
   "cell_type": "code",
   "execution_count": null,
   "id": "9bddd410-9cdf-4d67-a095-bdd7b127eb55",
   "metadata": {},
   "outputs": [],
   "source": [
    "spark.stop()"
   ]
  },
  {
   "cell_type": "code",
   "execution_count": null,
   "id": "26062153-f203-414d-b40c-20250615d504",
   "metadata": {},
   "outputs": [],
   "source": []
  }
 ],
 "metadata": {
  "kernelspec": {
   "display_name": "Python 3",
   "language": "python",
   "name": "python3"
  },
  "language_info": {
   "codemirror_mode": {
    "name": "ipython",
    "version": 3
   },
   "file_extension": ".py",
   "mimetype": "text/x-python",
   "name": "python",
   "nbconvert_exporter": "python",
   "pygments_lexer": "ipython3",
   "version": "3.6.8"
  }
 },
 "nbformat": 4,
 "nbformat_minor": 5
}
