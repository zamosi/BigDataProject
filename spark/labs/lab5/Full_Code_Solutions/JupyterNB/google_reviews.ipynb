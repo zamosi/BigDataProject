{
 "cells": [
  {
   "cell_type": "code",
   "execution_count": null,
   "id": "d79296f5-7f11-4eae-aafc-aa33d8f841aa",
   "metadata": {},
   "outputs": [],
   "source": [
    "from pyspark.sql import SparkSession\n",
    "from pyspark.sql import functions as F\n",
    "from pyspark.sql import Row\n",
    "from pyspark.sql import types as T"
   ]
  },
  {
   "cell_type": "code",
   "execution_count": null,
   "id": "954c8bd3-8fa6-4691-9b24-287c6998091c",
   "metadata": {},
   "outputs": [],
   "source": [
    "spark = SparkSession.builder.master(\"local[*]\").appName('ex5_google_reviews').getOrCreate()"
   ]
  },
  {
   "cell_type": "code",
   "execution_count": null,
   "id": "f2d37d4e-8044-4628-a481-581b45488754",
   "metadata": {},
   "outputs": [],
   "source": [
    "sentiment_arr = [Row(Sentiment='Positive', sentiment_rank=1),\n",
    "                 Row(Sentiment='Neutral', sentiment_rank=0),\n",
    "                 Row(Sentiment='Negative', sentiment_rank=-1)]"
   ]
  },
  {
   "cell_type": "code",
   "execution_count": null,
   "id": "2168b92a-8225-46f5-9c4d-50cb1471148b",
   "metadata": {},
   "outputs": [],
   "source": [
    "google_reviews_df = spark.read.csv('hdfs://course-hdfs:8020/data/raw/google_reviews/', header=True)\n",
    "sentiments_df = spark.createDataFrame(sentiment_arr)"
   ]
  },
  {
   "cell_type": "code",
   "execution_count": null,
   "id": "da440c84-9192-44ff-8311-eea2db1c2a60",
   "metadata": {},
   "outputs": [],
   "source": [
    "joined_df = google_reviews_df.join(F.broadcast(sentiments_df), ['Sentiment'])"
   ]
  },
  {
   "cell_type": "code",
   "execution_count": null,
   "id": "3abc9a92-abf8-4ccd-993f-79ff1c98a68b",
   "metadata": {},
   "outputs": [],
   "source": [
    "selected_df = joined_df\\\n",
    "    .select(F.col('App').alias('application_name'),\n",
    "            F.col('Translated_Review').alias('translated_review'),\n",
    "            F.col('sentiment_rank'),\n",
    "            F.col('Sentiment_Polarity').cast(T.FloatType()).alias('sentiment_polarity'),\n",
    "            F.col('Sentiment_Subjectivity').cast(T.FloatType()).alias('sentiment_subjectivity'))"
   ]
  },
  {
   "cell_type": "code",
   "execution_count": null,
   "id": "738c88b9-1d1a-461c-a674-5acdf6489d32",
   "metadata": {},
   "outputs": [],
   "source": [
    "selected_df.write.parquet('hdfs://course-hdfs:8020/data/source/google_reviews', mode='overwrite')"
   ]
  },
  {
   "cell_type": "code",
   "execution_count": null,
   "id": "4ece91bf-fcf2-4a38-8aaf-3d947a84f1c3",
   "metadata": {},
   "outputs": [],
   "source": [
    "spark.stop()"
   ]
  }
 ],
 "metadata": {
  "kernelspec": {
   "display_name": "Python 3",
   "language": "python",
   "name": "python3"
  },
  "language_info": {
   "codemirror_mode": {
    "name": "ipython",
    "version": 3
   },
   "file_extension": ".py",
   "mimetype": "text/x-python",
   "name": "python",
   "nbconvert_exporter": "python",
   "pygments_lexer": "ipython3",
   "version": "3.6.8"
  }
 },
 "nbformat": 4,
 "nbformat_minor": 5
}
