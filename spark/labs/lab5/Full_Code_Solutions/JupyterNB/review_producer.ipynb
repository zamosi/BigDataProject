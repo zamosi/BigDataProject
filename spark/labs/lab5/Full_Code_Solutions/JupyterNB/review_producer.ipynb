{
 "cells": [
  {
   "cell_type": "code",
   "execution_count": null,
   "id": "bfbc160c-f68d-41ef-a146-be91d0420f60",
   "metadata": {},
   "outputs": [],
   "source": [
    "import time\n",
    "from pyspark.sql import SparkSession\n",
    "from pyspark.sql import functions as F\n",
    "from pyspark.sql import types as T\n",
    "from kafka import KafkaProducer"
   ]
  },
  {
   "cell_type": "code",
   "execution_count": null,
   "id": "6b4ca7f6-3553-423e-b95f-4c0a08fb4eb9",
   "metadata": {},
   "outputs": [],
   "source": [
    "spark = SparkSession.builder.master(\"local[*]\").appName('ex5_reviews_producer').getOrCreate()"
   ]
  },
  {
   "cell_type": "code",
   "execution_count": null,
   "id": "05eb1cbd-0b71-4ce5-97d8-41c3eb60061b",
   "metadata": {},
   "outputs": [],
   "source": [
    "data_df = spark.read.parquet('hdfs://course-hdfs:8020/data/source/google_reviews')"
   ]
  },
  {
   "cell_type": "code",
   "execution_count": null,
   "id": "d1368c6d-6e78-4128-abbd-3ab77da52f0f",
   "metadata": {},
   "outputs": [],
   "source": [
    "data = data_df.toJSON()"
   ]
  },
  {
   "cell_type": "code",
   "execution_count": null,
   "id": "98b738a2-6fe4-4dc1-b987-59bb6a4a5563",
   "metadata": {},
   "outputs": [],
   "source": [
    "producer = KafkaProducer(bootstrap_servers='course-kafka:9092', value_serializer=lambda v: v.encode('utf-8'))"
   ]
  },
  {
   "cell_type": "code",
   "execution_count": null,
   "id": "ab605d1c-b171-4500-9510-c0d7c5675aa2",
   "metadata": {},
   "outputs": [],
   "source": [
    "i = 0\n",
    "\n",
    "for json_data in data.collect():\n",
    "    i = i + 1\n",
    "    producer.send(topic='gps-user-review-source', value=json_data)\n",
    "    if i == 50:\n",
    "        producer.flush()\n",
    "        time.sleep(5)\n",
    "        i = 0"
   ]
  },
  {
   "cell_type": "code",
   "execution_count": null,
   "id": "920c457b-dd8f-44b3-8efc-5c22982a1a23",
   "metadata": {},
   "outputs": [],
   "source": [
    "producer.close()"
   ]
  },
  {
   "cell_type": "code",
   "execution_count": null,
   "id": "ae796cb9-8d36-4447-a173-7f56643b8db7",
   "metadata": {},
   "outputs": [],
   "source": [
    "spark.stop()"
   ]
  }
 ],
 "metadata": {
  "kernelspec": {
   "display_name": "Python 3",
   "language": "python",
   "name": "python3"
  },
  "language_info": {
   "codemirror_mode": {
    "name": "ipython",
    "version": 3
   },
   "file_extension": ".py",
   "mimetype": "text/x-python",
   "name": "python",
   "nbconvert_exporter": "python",
   "pygments_lexer": "ipython3",
   "version": "3.6.8"
  }
 },
 "nbformat": 4,
 "nbformat_minor": 5
}
