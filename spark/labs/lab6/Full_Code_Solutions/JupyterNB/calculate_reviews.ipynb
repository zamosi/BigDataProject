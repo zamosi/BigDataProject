{
 "cells": [
  {
   "cell_type": "code",
   "execution_count": null,
   "id": "9050b743-1b35-4d90-868c-7c2142cc340c",
   "metadata": {},
   "outputs": [],
   "source": [
    "from pyspark.sql import SparkSession\n",
    "from pyspark.sql import functions as F\n",
    "from pyspark.sql import types as T"
   ]
  },
  {
   "cell_type": "code",
   "execution_count": null,
   "id": "4e9d0ed6-091e-4c6f-ba09-f51b9be6afef",
   "metadata": {},
   "outputs": [],
   "source": [
    "json_schema = T.StructType([\n",
    "    T.StructField('application_name', T.StringType()),\n",
    "    T.StructField('translated_review', T.StringType()),\n",
    "    T.StructField('sentiment_rank', T.IntegerType()),\n",
    "    T.StructField('sentiment_polarity', T.FloatType()),\n",
    "    T.StructField('sentiment_subjectivity', T.FloatType())])"
   ]
  },
  {
   "cell_type": "code",
   "execution_count": null,
   "id": "be9fd656-592f-434e-99bf-b91991152516",
   "metadata": {},
   "outputs": [],
   "source": [
    "spark = SparkSession\\\n",
    "    .builder\\\n",
    "    .master(\"local[*]\")\\\n",
    "    .appName('ex6_calculate_reviews')\\\n",
    "    .config('spark.jars.packages', 'org.apache.spark:spark-sql-kafka-0-10_2.12:3.1.2')\\\n",
    "    .getOrCreate()"
   ]
  },
  {
   "cell_type": "code",
   "execution_count": null,
   "id": "1817d2a7-aa41-487a-b1b8-ea14bf1ea448",
   "metadata": {},
   "outputs": [],
   "source": [
    "stream_df = spark\\\n",
    "    .readStream\\\n",
    "    .format('kafka')\\\n",
    "    .option(\"kafka.bootstrap.servers\", \"course-kafka:9092\")\\\n",
    "    .option(\"subscribe\", \"gps-user-review-source\")\\\n",
    "    .option('startingOffsets', 'earliest')\\\n",
    "    .load()\\\n",
    "    .select(F.col('value').cast(T.StringType()))"
   ]
  },
  {
   "cell_type": "code",
   "execution_count": null,
   "id": "912a38d5-7894-44a3-918a-1a6cae9e7a03",
   "metadata": {},
   "outputs": [],
   "source": [
    "parsed_df = stream_df\\\n",
    "    .withColumn('parsed_json', F.from_json(F.col('value'), json_schema))\\\n",
    "    .select(F.col('parsed_json.*'))"
   ]
  },
  {
   "cell_type": "code",
   "execution_count": null,
   "id": "baa294a2-9fb0-440b-9dcf-e20d869c92c6",
   "metadata": {},
   "outputs": [],
   "source": [
    "static_data_df = spark.read.parquet('hdfs://course-hdfs:8020/data/source/google_apps/')"
   ]
  },
  {
   "cell_type": "code",
   "execution_count": null,
   "id": "2e8e4073-9890-4ddc-a8a3-d8080ffd285d",
   "metadata": {},
   "outputs": [],
   "source": [
    "static_data_df.cache()"
   ]
  },
  {
   "cell_type": "code",
   "execution_count": null,
   "id": "95be0767-17be-4a71-9a70-d383aaeb2989",
   "metadata": {},
   "outputs": [],
   "source": [
    "joined_df = parsed_df\\\n",
    "    .groupBy(F.col('application_name'))\\\n",
    "    .agg(F.sum(F.when(F.col('sentiment_rank') == 1, 1).otherwise(0)).alias('num_of_positive_sentiments'),\n",
    "         F.sum(F.when(F.col('sentiment_rank') == 0, 1).otherwise(0)).alias('num_of_neutral_sentiments'),\n",
    "         F.sum(F.when(F.col('sentiment_rank') == -1, 1).otherwise(0)).alias('num_of_negative_sentiments'),\n",
    "         F.avg(F.col('sentiment_polarity')).alias('avg_sentiment_polarity'),\n",
    "         F.avg(F.col('sentiment_subjectivity')).alias('avg_sentiment_subjectivity'))\\\n",
    "    .join(static_data_df, ['application_name'])"
   ]
  },
  {
   "cell_type": "code",
   "execution_count": null,
   "id": "89388153-0e1b-4225-be05-62372ecc75dc",
   "metadata": {},
   "outputs": [],
   "source": [
    "fields_list = joined_df.schema.fieldNames()\n",
    "fields_as_cols = list(map(lambda col_name: F.col(col_name), fields_list))"
   ]
  },
  {
   "cell_type": "code",
   "execution_count": null,
   "id": "766ce9d9-7cec-4532-8afc-8648783368a6",
   "metadata": {},
   "outputs": [],
   "source": [
    "json_df = joined_df\\\n",
    "    .withColumn('to_json_struct', F.struct(fields_as_cols))\\\n",
    "    .select(F.to_json(F.col('to_json_struct')).alias('value'))"
   ]
  },
  {
   "cell_type": "code",
   "execution_count": null,
   "id": "9f166a5e-64a3-420d-81d4-573871540187",
   "metadata": {},
   "outputs": [],
   "source": [
    "query = json_df\\\n",
    "    .writeStream\\\n",
    "    .format('kafka') \\\n",
    "    .option(\"kafka.bootstrap.servers\", \"course-kafka:9092\") \\\n",
    "    .option(\"topic\", \"gps-with-reviews\") \\\n",
    "    .option('checkpointLocation', 'hdfs://course-hdfs:8020/checkpoints/ex6/review_calculation') \\\n",
    "    .outputMode('update')\\\n",
    "    .start()"
   ]
  },
  {
   "cell_type": "code",
   "execution_count": null,
   "id": "ad371aa5-908a-4e1c-bbc8-53f72762c34f",
   "metadata": {},
   "outputs": [],
   "source": [
    "query.awaitTermination()"
   ]
  },
  {
   "cell_type": "code",
   "execution_count": null,
   "id": "ac15afd7-f4aa-4e3c-b69b-4f0a318567b1",
   "metadata": {},
   "outputs": [],
   "source": [
    "static_data_df.unpersist()"
   ]
  },
  {
   "cell_type": "code",
   "execution_count": null,
   "id": "e4374c27-ccd8-46fc-97ba-e877a6af5f4a",
   "metadata": {},
   "outputs": [],
   "source": [
    "spark.stop()"
   ]
  }
 ],
 "metadata": {
  "kernelspec": {
   "display_name": "Python 3",
   "language": "python",
   "name": "python3"
  },
  "language_info": {
   "codemirror_mode": {
    "name": "ipython",
    "version": 3
   },
   "file_extension": ".py",
   "mimetype": "text/x-python",
   "name": "python",
   "nbconvert_exporter": "python",
   "pygments_lexer": "ipython3",
   "version": "3.6.8"
  }
 },
 "nbformat": 4,
 "nbformat_minor": 5
}
