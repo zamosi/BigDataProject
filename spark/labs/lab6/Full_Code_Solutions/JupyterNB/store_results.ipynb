{
 "cells": [
  {
   "cell_type": "code",
   "execution_count": null,
   "id": "96e6e08a-98fa-430f-bf36-c0ad62d7bc1e",
   "metadata": {},
   "outputs": [],
   "source": [
    "from pyspark.sql import SparkSession\n",
    "from pyspark.sql import functions as F\n",
    "from pyspark.sql import types as T"
   ]
  },
  {
   "cell_type": "code",
   "execution_count": null,
   "id": "9c9b2af1-cc81-4ce1-b375-cd8b79cef039",
   "metadata": {},
   "outputs": [],
   "source": [
    "json_schema = T.StructType([\n",
    "    T.StructField('application_name', T.StringType()),\n",
    "    T.StructField('num_of_positive_sentiments', T.LongType()),\n",
    "    T.StructField('num_of_neutral_sentiments', T.LongType()),\n",
    "    T.StructField('num_of_negative_sentiments', T.LongType()),\n",
    "    T.StructField('avg_sentiment_polarity', T.DoubleType()),\n",
    "    T.StructField('avg_sentiment_subjectivity', T.DoubleType()),\n",
    "    T.StructField('category', T.StringType()),\n",
    "    T.StructField('rating', T.StringType()),\n",
    "    T.StructField('reviews', T.StringType()),\n",
    "    T.StructField('size', T.StringType()),\n",
    "    T.StructField('num_of_installs', T.DoubleType()),\n",
    "    T.StructField('price', T.DoubleType()),\n",
    "    T.StructField('age_limit', T.LongType()),\n",
    "    T.StructField('genres', T.StringType()),\n",
    "    T.StructField('version', T.StringType())])"
   ]
  },
  {
   "cell_type": "code",
   "execution_count": null,
   "id": "76e49200-b8bb-4070-8a20-b3184c3392f6",
   "metadata": {},
   "outputs": [],
   "source": [
    "spark = SparkSession\\\n",
    "    .builder\\\n",
    "    .master(\"local[*]\")\\\n",
    "    .appName('ex6_store_results')\\\n",
    "    .config('spark.jars.packages', 'org.apache.spark:spark-sql-kafka-0-10_2.12:3.2.0')\\\n",
    "    .getOrCreate()"
   ]
  },
  {
   "cell_type": "code",
   "execution_count": null,
   "id": "d58b4947-be11-4ee3-91fd-910dabb8d10b",
   "metadata": {},
   "outputs": [],
   "source": [
    "stream_df = spark\\\n",
    "    .readStream\\\n",
    "    .format('kafka')\\\n",
    "    .option(\"kafka.bootstrap.servers\", \"course-kafka:9092\")\\\n",
    "    .option(\"subscribe\", \"gps-with-reviews\")\\\n",
    "    .option('startingOffsets', 'earliest')\\\n",
    "    .load()\\\n",
    "    .select(F.col('value').cast(T.StringType()))"
   ]
  },
  {
   "cell_type": "code",
   "execution_count": null,
   "id": "58a39ed2-a1ae-46b9-b536-861f902293be",
   "metadata": {},
   "outputs": [],
   "source": [
    "parsed_df = stream_df\\\n",
    "    .withColumn('parsed_json', F.from_json(F.col('value'), json_schema))\\\n",
    "    .select(F.col('parsed_json.*'))"
   ]
  },
  {
   "cell_type": "code",
   "execution_count": null,
   "id": "d4ad714f-6585-4721-aa56-969bf06e52e3",
   "metadata": {},
   "outputs": [],
   "source": [
    "query = parsed_df\\\n",
    "    .writeStream\\\n",
    "    .trigger(processingTime='1 minute') \\\n",
    "    .format('parquet')\\\n",
    "    .outputMode('append')\\\n",
    "    .option(\"path\", \"hdfs://course-hdfs:8020/data/target/google_reviews_calc\") \\\n",
    "    .option('checkpointLocation', 'hdfs://course-hdfs:8020/checkpoints/ex6/store_result')\\\n",
    "    .start()"
   ]
  },
  {
   "cell_type": "code",
   "execution_count": null,
   "id": "dbe8216a-e44e-4353-8292-7626958e75dd",
   "metadata": {},
   "outputs": [],
   "source": [
    "query.awaitTermination()"
   ]
  },
  {
   "cell_type": "code",
   "execution_count": null,
   "id": "30733089-5ae1-440b-bb71-69c72fe3f6bb",
   "metadata": {},
   "outputs": [],
   "source": [
    "spark.stop()"
   ]
  }
 ],
 "metadata": {
  "kernelspec": {
   "display_name": "Python 3",
   "language": "python",
   "name": "python3"
  },
  "language_info": {
   "codemirror_mode": {
    "name": "ipython",
    "version": 3
   },
   "file_extension": ".py",
   "mimetype": "text/x-python",
   "name": "python",
   "nbconvert_exporter": "python",
   "pygments_lexer": "ipython3",
   "version": "3.6.8"
  }
 },
 "nbformat": 4,
 "nbformat_minor": 5
}
