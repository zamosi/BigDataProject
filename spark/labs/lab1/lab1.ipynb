{
 "cells": [
  {
   "cell_type": "code",
   "execution_count": 2,
   "metadata": {},
   "outputs": [],
   "source": [
    "from pyspark import SparkContext"
   ]
  },
  {
   "cell_type": "code",
   "execution_count": 15,
   "metadata": {},
   "outputs": [],
   "source": [
    "sc = SparkContext('local[*]', 'ex1_word_count')"
   ]
  },
  {
   "cell_type": "code",
   "execution_count": 16,
   "metadata": {},
   "outputs": [],
   "source": [
    "text = \"\"\"This is an example of spark application in Python\n",
    "Python is a very common development language and it is also one of Spark's supported \n",
    "languages\n",
    "The library of Spark in Python called PySpark\n",
    "In this example you will implement a word count application using PySpark\n",
    "Good luck!!\"\"\".split(\"\\n\")"
   ]
  },
  {
   "cell_type": "code",
   "execution_count": 17,
   "metadata": {},
   "outputs": [],
   "source": [
    "rdd = sc.parallelize(text)"
   ]
  },
  {
   "cell_type": "code",
   "execution_count": 18,
   "metadata": {},
   "outputs": [],
   "source": [
    "flattened_words = rdd.flatMap(lambda line: line.split(' '))"
   ]
  },
  {
   "cell_type": "code",
   "execution_count": 19,
   "metadata": {},
   "outputs": [],
   "source": [
    "words_with_rank = flattened_words.map(lambda word: (word, 1))"
   ]
  },
  {
   "cell_type": "code",
   "execution_count": 20,
   "metadata": {},
   "outputs": [],
   "source": [
    "words_count = words_with_rank.reduceByKey(lambda a, b: a + b)"
   ]
  },
  {
   "cell_type": "code",
   "execution_count": 21,
   "metadata": {},
   "outputs": [
    {
     "name": "stderr",
     "output_type": "stream",
     "text": [
      "[Stage 0:============================================>              (6 + 2) / 8]\r"
     ]
    },
    {
     "name": "stdout",
     "output_type": "stream",
     "text": [
      "('an', 1)\n",
      "('of', 3)\n",
      "('common', 1)\n",
      "(\"Spark's\", 1)\n",
      "('', 1)\n",
      "('library', 1)\n",
      "('using', 1)\n",
      "('spark', 1)\n",
      "('a', 2)\n",
      "('you', 1)\n",
      "('development', 1)\n",
      "('language', 1)\n",
      "('Spark', 1)\n",
      "('this', 1)\n",
      "('luck!!', 1)\n",
      "('This', 1)\n",
      "('it', 1)\n",
      "('also', 1)\n",
      "('supported', 1)\n",
      "('called', 1)\n",
      "('In', 1)\n",
      "('will', 1)\n",
      "('in', 2)\n",
      "('Python', 3)\n",
      "('and', 1)\n",
      "('languages', 1)\n",
      "('implement', 1)\n",
      "('word', 1)\n",
      "('is', 3)\n",
      "('very', 1)\n",
      "('The', 1)\n",
      "('PySpark', 2)\n",
      "('count', 1)\n",
      "('Good', 1)\n",
      "('example', 2)\n",
      "('application', 2)\n",
      "('one', 1)\n"
     ]
    },
    {
     "name": "stderr",
     "output_type": "stream",
     "text": [
      "                                                                                \r"
     ]
    }
   ],
   "source": [
    "for word_count in words_count.collect():\n",
    "    print(word_count)"
   ]
  },
  {
   "cell_type": "code",
   "execution_count": 22,
   "metadata": {},
   "outputs": [],
   "source": [
    "sc.stop()"
   ]
  }
 ],
 "metadata": {
  "kernelspec": {
   "display_name": "Python 3",
   "language": "python",
   "name": "python3"
  },
  "language_info": {
   "codemirror_mode": {
    "name": "ipython",
    "version": 3
   },
   "file_extension": ".py",
   "mimetype": "text/x-python",
   "name": "python",
   "nbconvert_exporter": "python",
   "pygments_lexer": "ipython3",
   "version": "3.10.7"
  }
 },
 "nbformat": 4,
 "nbformat_minor": 2
}
