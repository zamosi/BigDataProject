{
 "cells": [
  {
   "cell_type": "code",
   "execution_count": null,
   "id": "a87004ca-3429-4085-8ebf-ecd2d57fb1f0",
   "metadata": {},
   "outputs": [],
   "source": [
    "from pyspark.sql import SparkSession\n",
    "from pyspark.sql import functions as F"
   ]
  },
  {
   "cell_type": "code",
   "execution_count": null,
   "id": "2105500d-9713-4b2b-81b0-491557163c33",
   "metadata": {},
   "outputs": [],
   "source": [
    "spark = SparkSession.builder.master(\"local[*]\").appName('ex3_aggregations').getOrCreate()"
   ]
  },
  {
   "cell_type": "code",
   "execution_count": null,
   "id": "28033b46-71f7-431b-a3f5-f8818d28bb15",
   "metadata": {},
   "outputs": [],
   "source": [
    "flights_df = spark.read.parquet('hdfs://course-hdfs:8020/data/transformed/flights/')\n",
    "airports_df = spark.read.parquet('hdfs://course-hdfs:8020/data/source/airports/')"
   ]
  },
  {
   "cell_type": "code",
   "execution_count": null,
   "id": "c7e3e3fc-c493-4b2d-9eba-a108982cdd35",
   "metadata": {},
   "outputs": [],
   "source": [
    "flights_df.printSchema()\n",
    "airports_df.printSchema()"
   ]
  },
  {
   "cell_type": "code",
   "execution_count": null,
   "id": "493c0297-5db6-4f07-821b-a219ebf0cab3",
   "metadata": {},
   "outputs": [],
   "source": [
    "flights_df\\\n",
    "    .groupBy(F.col('origin_airport_id').alias('airport_id'))\\\n",
    "    .agg(F.count(F.lit(1)).alias('number_of_departures'))\\\n",
    "    .join(airports_df.select(F.col('airport_id'), F.col('name').alias('airport_name')), ['airport_id'])\\\n",
    "    .orderBy(F.col('number_of_departures').desc())\\\n",
    "    .show(10, False)"
   ]
  },
  {
   "cell_type": "code",
   "execution_count": null,
   "id": "e731d31b-059d-4bc5-81e8-1247f5cb966b",
   "metadata": {},
   "outputs": [],
   "source": [
    "flights_df \\\n",
    "    .groupBy(F.col('dest_airport_id').alias('airport_id')) \\\n",
    "    .agg(F.count(F.lit(1)).alias('number_of_arrivals')) \\\n",
    "    .join(airports_df.select(F.col('airport_id'), F.col('name').alias('airport_name')), ['airport_id']) \\\n",
    "    .orderBy(F.col('number_of_arrivals').desc()) \\\n",
    "    .show(10, False)"
   ]
  },
  {
   "cell_type": "code",
   "execution_count": null,
   "id": "b4142f00-5f89-4d9c-bb42-03b2849a3307",
   "metadata": {},
   "outputs": [],
   "source": [
    "flights_df \\\n",
    "    .groupBy(F.col('origin_airport_id').alias('source_airport_id'), F.col('dest_airport_id').alias('dest_airport_id')) \\\n",
    "    .agg(F.count(F.lit(1)).alias('number_of_tracks')) \\\n",
    "    .join(airports_df.select(F.col('airport_id').alias('source_airport_id'),\n",
    "                             F.col('name').alias('source_airport_name')),\n",
    "          ['source_airport_id']) \\\n",
    "    .join(airports_df.select(F.col('airport_id').alias('dest_airport_id'),\n",
    "                             F.col('name').alias('dest_airport_name')),\n",
    "          ['dest_airport_id']) \\\n",
    "    .select(F.concat(F.col('source_airport_name'), F.lit(' -> '), F.col('dest_airport_name')).alias('track'),\n",
    "            F.col('number_of_tracks'))\\\n",
    "    .orderBy(F.col('number_of_tracks').desc()) \\\n",
    "    .show(10, False)"
   ]
  },
  {
   "cell_type": "markdown",
   "id": "254a13d0-6f5d-4aed-8373-37363ce4e5a4",
   "metadata": {},
   "source": [
    "# Complete the solution for last two aggregations"
   ]
  },
  {
   "cell_type": "code",
   "execution_count": null,
   "id": "3566057b-a8b4-493c-b318-ff61ef0f4751",
   "metadata": {},
   "outputs": [],
   "source": [
    "spark.stop()"
   ]
  }
 ],
 "metadata": {
  "kernelspec": {
   "display_name": "Python 3",
   "language": "python",
   "name": "python3"
  },
  "language_info": {
   "codemirror_mode": {
    "name": "ipython",
    "version": 3
   },
   "file_extension": ".py",
   "mimetype": "text/x-python",
   "name": "python",
   "nbconvert_exporter": "python",
   "pygments_lexer": "ipython3",
   "version": "3.6.8"
  }
 },
 "nbformat": 4,
 "nbformat_minor": 5
}
