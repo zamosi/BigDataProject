{
 "cells": [
  {
   "cell_type": "code",
   "execution_count": null,
   "id": "f5cbf05a-be69-43c3-bc84-23fcf23f09ae",
   "metadata": {},
   "outputs": [],
   "source": [
    "from pyspark.sql import SparkSession\n",
    "from pyspark.sql import functions as F\n",
    "from pyspark.sql import types as T\n",
    "from datetime import date, timedelta\n",
    "from pyspark.sql import Row"
   ]
  },
  {
   "cell_type": "code",
   "execution_count": null,
   "id": "3213ac72-bbf0-422d-baf8-e561916ee757",
   "metadata": {},
   "outputs": [],
   "source": [
    "def get_dates_df():\n",
    "    dummy_df = spark.createDataFrame([Row(dummy='x')])\n",
    "    in_dates_df = dummy_df.select(F.explode(F.sequence(F.lit("2020-01-01").cast(T.DateType()), F.lit("2020-12-31").cast(T.DateType()))).alias("flight_date"))\n",
    "    return in_dates_df"
   ]
  },
  {
   "cell_type": "code",
   "execution_count": null,
   "id": "e37bf602-0b71-44c3-894f-94b2b14ee5ac",
   "metadata": {},
   "outputs": [],
   "source": [
    "spark = SparkSession.builder.master(\"local[*]\").appName('ex3_add_dates').getOrCreate()"
   ]
  },
  {
   "cell_type": "code",
   "execution_count": null,
   "id": "4755fbd5-9848-434b-a2b9-644a6d967576",
   "metadata": {},
   "outputs": [],
   "source": [
    "flights_df = spark.read.parquet('hdfs://course-hdfs:8020/data/stg/flight_matched/')\n",
    "dates_df = get_dates_df()"
   ]
  },
  {
   "cell_type": "code",
   "execution_count": null,
   "id": "f740f66f-8483-4dcb-aaf2-ab6be9e4a980",
   "metadata": {},
   "outputs": [],
   "source": [
    "dates_full_df = dates_df\\\n",
    "    .withColumn('day_of_week', F.dayofweek(F.col('flight_date')))\\\n",
    "    .withColumn('day_of_month', F.dayofmonth(F.col('flight_date')))"
   ]
  },
  {
   "cell_type": "code",
   "execution_count": null,
   "id": "6683b820-35df-4bdc-a708-741c45c85512",
   "metadata": {},
   "outputs": [],
   "source": [
    "max_date_df = dates_full_df\\\n",
    "    .groupBy(F.col('day_of_week'), F.col('day_of_month'))\\\n",
    "    .agg(F.max(F.col('flight_date')).alias('flight_date'))"
   ]
  },
  {
   "cell_type": "code",
   "execution_count": null,
   "id": "452c352e-fb38-4ee8-93ee-c12a95778bd0",
   "metadata": {},
   "outputs": [],
   "source": [
    "enriched_flights_df = flights_df.join(max_date_df, ['day_of_week', 'day_of_month'])"
   ]
  },
  {
   "cell_type": "code",
   "execution_count": null,
   "id": "30abf4c3-eea0-47ef-aa1a-edd431e5d82b",
   "metadata": {},
   "outputs": [],
   "source": [
    "enriched_flights_df.write.parquet('hdfs://course-hdfs:8020/data/transformed/flights/', mode='overwrite')"
   ]
  },
  {
   "cell_type": "code",
   "execution_count": null,
   "id": "b9e2b9cc-de6a-4e54-97d6-cb4276cabf82",
   "metadata": {},
   "outputs": [],
   "source": [
    "spark.stop()"
   ]
  },
  {
   "cell_type": "code",
   "execution_count": null,
   "id": "8de36179-7fc0-48aa-b484-4008d844ed9f",
   "metadata": {},
   "outputs": [],
   "source": []
  }
 ],
 "metadata": {
  "kernelspec": {
   "display_name": "Python 3",
   "language": "python",
   "name": "python3"
  },
  "language_info": {
   "codemirror_mode": {
    "name": "ipython",
    "version": 3
   },
   "file_extension": ".py",
   "mimetype": "text/x-python",
   "name": "python",
   "nbconvert_exporter": "python",
   "pygments_lexer": "ipython3",
   "version": "3.6.8"
  }
 },
 "nbformat": 4,
 "nbformat_minor": 5
}
